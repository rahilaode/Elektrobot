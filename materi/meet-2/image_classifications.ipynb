{
 "cells": [
  {
   "cell_type": "markdown",
   "metadata": {},
   "source": [
    "# 1. Data Preparations"
   ]
  },
  {
   "cell_type": "code",
   "execution_count": 16,
   "metadata": {},
   "outputs": [],
   "source": [
    "import pandas as pd\n",
    "import os\n",
    "import cv2"
   ]
  },
  {
   "cell_type": "code",
   "execution_count": 11,
   "metadata": {},
   "outputs": [],
   "source": [
    "# Tentukan lokasi dataset\n",
    "dataset_path = 'rps-cv-images'\n",
    "\n",
    "# Siapkan variabel untuk menampung data-data yang diperlukan\n",
    "images = []\n",
    "width = []\n",
    "height = []\n",
    "channel = []\n",
    "label = []"
   ]
  },
  {
   "cell_type": "code",
   "execution_count": 12,
   "metadata": {},
   "outputs": [],
   "source": [
    "for subfolder in os.listdir(dataset_path):\n",
    "    subfolder_path = os.path.join(dataset_path, subfolder)\n",
    "    \n",
    "    for images_filename in os.listdir(subfolder_path):\n",
    "        # Mendapatkan direktori dari setiap gambar \n",
    "        images_path = os.path.join(subfolder_path, images_filename)\n",
    "\n",
    "        # Baca gambar\n",
    "        image = cv2.imread(images_path)\n",
    "\n",
    "        # Simpan informasi dari setiap gambar\n",
    "        img_height = image.shape[0]\n",
    "        img_width = image.shape[1]\n",
    "        img_channel = image.shape[2]\n",
    "\n",
    "        # Tampung informasi semua gambar\n",
    "        images.append(images_path)\n",
    "        width.append(img_width)\n",
    "        height.append(img_height)\n",
    "        channel.append(img_channel)\n",
    "        label.append(subfolder)"
   ]
  },
  {
   "cell_type": "code",
   "execution_count": 14,
   "metadata": {},
   "outputs": [],
   "source": [
    "data = {\n",
    "    'image': images,\n",
    "    'width': width,\n",
    "    'height': height,\n",
    "    'channel': channel,\n",
    "    'label': label\n",
    "}"
   ]
  },
  {
   "cell_type": "code",
   "execution_count": 18,
   "metadata": {},
   "outputs": [
    {
     "data": {
      "text/html": [
       "<div>\n",
       "<style scoped>\n",
       "    .dataframe tbody tr th:only-of-type {\n",
       "        vertical-align: middle;\n",
       "    }\n",
       "\n",
       "    .dataframe tbody tr th {\n",
       "        vertical-align: top;\n",
       "    }\n",
       "\n",
       "    .dataframe thead th {\n",
       "        text-align: right;\n",
       "    }\n",
       "</style>\n",
       "<table border=\"1\" class=\"dataframe\">\n",
       "  <thead>\n",
       "    <tr style=\"text-align: right;\">\n",
       "      <th></th>\n",
       "      <th>image</th>\n",
       "      <th>width</th>\n",
       "      <th>height</th>\n",
       "      <th>channel</th>\n",
       "      <th>label</th>\n",
       "    </tr>\n",
       "  </thead>\n",
       "  <tbody>\n",
       "    <tr>\n",
       "      <th>0</th>\n",
       "      <td>rps-cv-images\\paper\\04l5I8TqdzF9WDMJ.png</td>\n",
       "      <td>300</td>\n",
       "      <td>200</td>\n",
       "      <td>3</td>\n",
       "      <td>paper</td>\n",
       "    </tr>\n",
       "    <tr>\n",
       "      <th>1</th>\n",
       "      <td>rps-cv-images\\paper\\0a3UtNzl5Ll3sq8K.png</td>\n",
       "      <td>300</td>\n",
       "      <td>200</td>\n",
       "      <td>3</td>\n",
       "      <td>paper</td>\n",
       "    </tr>\n",
       "    <tr>\n",
       "      <th>2</th>\n",
       "      <td>rps-cv-images\\paper\\0cb6cVL8pkfi4wF6.png</td>\n",
       "      <td>300</td>\n",
       "      <td>200</td>\n",
       "      <td>3</td>\n",
       "      <td>paper</td>\n",
       "    </tr>\n",
       "    <tr>\n",
       "      <th>3</th>\n",
       "      <td>rps-cv-images\\paper\\0eqArS2GgsBeqgSn.png</td>\n",
       "      <td>300</td>\n",
       "      <td>200</td>\n",
       "      <td>3</td>\n",
       "      <td>paper</td>\n",
       "    </tr>\n",
       "    <tr>\n",
       "      <th>4</th>\n",
       "      <td>rps-cv-images\\paper\\0Og76sl5CJhbxWWx.png</td>\n",
       "      <td>300</td>\n",
       "      <td>200</td>\n",
       "      <td>3</td>\n",
       "      <td>paper</td>\n",
       "    </tr>\n",
       "    <tr>\n",
       "      <th>...</th>\n",
       "      <td>...</td>\n",
       "      <td>...</td>\n",
       "      <td>...</td>\n",
       "      <td>...</td>\n",
       "      <td>...</td>\n",
       "    </tr>\n",
       "    <tr>\n",
       "      <th>2183</th>\n",
       "      <td>rps-cv-images\\scissors\\zV0yCNG0C9s4GId3.png</td>\n",
       "      <td>300</td>\n",
       "      <td>200</td>\n",
       "      <td>3</td>\n",
       "      <td>scissors</td>\n",
       "    </tr>\n",
       "    <tr>\n",
       "      <th>2184</th>\n",
       "      <td>rps-cv-images\\scissors\\zyml8p6mHzWWJTyw.png</td>\n",
       "      <td>300</td>\n",
       "      <td>200</td>\n",
       "      <td>3</td>\n",
       "      <td>scissors</td>\n",
       "    </tr>\n",
       "    <tr>\n",
       "      <th>2185</th>\n",
       "      <td>rps-cv-images\\scissors\\ZyZeKfG5s1J9Qn64.png</td>\n",
       "      <td>300</td>\n",
       "      <td>200</td>\n",
       "      <td>3</td>\n",
       "      <td>scissors</td>\n",
       "    </tr>\n",
       "    <tr>\n",
       "      <th>2186</th>\n",
       "      <td>rps-cv-images\\scissors\\Zz1djgkAdRqsHM3z.png</td>\n",
       "      <td>300</td>\n",
       "      <td>200</td>\n",
       "      <td>3</td>\n",
       "      <td>scissors</td>\n",
       "    </tr>\n",
       "    <tr>\n",
       "      <th>2187</th>\n",
       "      <td>rps-cv-images\\scissors\\ZzIlyDP6opy9ifkB.png</td>\n",
       "      <td>300</td>\n",
       "      <td>200</td>\n",
       "      <td>3</td>\n",
       "      <td>scissors</td>\n",
       "    </tr>\n",
       "  </tbody>\n",
       "</table>\n",
       "<p>2188 rows × 5 columns</p>\n",
       "</div>"
      ],
      "text/plain": [
       "                                            image  width  height  channel  \\\n",
       "0        rps-cv-images\\paper\\04l5I8TqdzF9WDMJ.png    300     200        3   \n",
       "1        rps-cv-images\\paper\\0a3UtNzl5Ll3sq8K.png    300     200        3   \n",
       "2        rps-cv-images\\paper\\0cb6cVL8pkfi4wF6.png    300     200        3   \n",
       "3        rps-cv-images\\paper\\0eqArS2GgsBeqgSn.png    300     200        3   \n",
       "4        rps-cv-images\\paper\\0Og76sl5CJhbxWWx.png    300     200        3   \n",
       "...                                           ...    ...     ...      ...   \n",
       "2183  rps-cv-images\\scissors\\zV0yCNG0C9s4GId3.png    300     200        3   \n",
       "2184  rps-cv-images\\scissors\\zyml8p6mHzWWJTyw.png    300     200        3   \n",
       "2185  rps-cv-images\\scissors\\ZyZeKfG5s1J9Qn64.png    300     200        3   \n",
       "2186  rps-cv-images\\scissors\\Zz1djgkAdRqsHM3z.png    300     200        3   \n",
       "2187  rps-cv-images\\scissors\\ZzIlyDP6opy9ifkB.png    300     200        3   \n",
       "\n",
       "         label  \n",
       "0        paper  \n",
       "1        paper  \n",
       "2        paper  \n",
       "3        paper  \n",
       "4        paper  \n",
       "...        ...  \n",
       "2183  scissors  \n",
       "2184  scissors  \n",
       "2185  scissors  \n",
       "2186  scissors  \n",
       "2187  scissors  \n",
       "\n",
       "[2188 rows x 5 columns]"
      ]
     },
     "execution_count": 18,
     "metadata": {},
     "output_type": "execute_result"
    }
   ],
   "source": [
    "# Buat dataframe\n",
    "rps_dataframe = pd.DataFrame(data)\n",
    "\n",
    "rps_dataframe"
   ]
  },
  {
   "cell_type": "markdown",
   "metadata": {},
   "source": [
    "# 2. Data Expolorations"
   ]
  },
  {
   "cell_type": "code",
   "execution_count": 22,
   "metadata": {},
   "outputs": [
    {
     "name": "stdout",
     "output_type": "stream",
     "text": [
      "Ada sebanyak 2188 gambar dari 3 class.\n"
     ]
    }
   ],
   "source": [
    "total_images = len(rps_dataframe)\n",
    "total_class = rps_dataframe.label.nunique()\n",
    "\n",
    "print(f\"Ada sebanyak {total_images} gambar dari {total_class} class.\")"
   ]
  },
  {
   "cell_type": "markdown",
   "metadata": {},
   "source": [
    "## 2.1. Distribution of Target Class"
   ]
  },
  {
   "cell_type": "code",
   "execution_count": 23,
   "metadata": {},
   "outputs": [
    {
     "data": {
      "text/plain": [
       "<Axes: xlabel='label', ylabel='count'>"
      ]
     },
     "execution_count": 23,
     "metadata": {},
     "output_type": "execute_result"
    },
    {
     "data": {
      "image/png": "[encoded data removed]",
      "text/plain": [
       "<Figure size 640x480 with 1 Axes>"
      ]
     },
     "metadata": {},
     "output_type": "display_data"
    }
   ],
   "source": [
    "import seaborn as sns\n",
    "\n",
    "sns.countplot(x = rps_dataframe.label)"
   ]
  },
  {
   "cell_type": "markdown",
   "metadata": {},
   "source": [
    "# 3. Data Preprocessing"
   ]
  },
  {
   "cell_type": "markdown",
   "metadata": {},
   "source": [
    "## 3.1. Splitting Data"
   ]
  },
  {
   "cell_type": "code",
   "execution_count": 24,
   "metadata": {},
   "outputs": [],
   "source": [
    "from sklearn.model_selection import train_test_split"
   ]
  },
  {
   "cell_type": "code",
   "execution_count": 27,
   "metadata": {},
   "outputs": [],
   "source": [
    "X = rps_dataframe['image']\n",
    "Y = rps_dataframe['label']"
   ]
  },
  {
   "cell_type": "code",
   "execution_count": 30,
   "metadata": {},
   "outputs": [
    {
     "data": {
      "text/plain": [
       "0          rps-cv-images\\paper\\04l5I8TqdzF9WDMJ.png\n",
       "1          rps-cv-images\\paper\\0a3UtNzl5Ll3sq8K.png\n",
       "2          rps-cv-images\\paper\\0cb6cVL8pkfi4wF6.png\n",
       "3          rps-cv-images\\paper\\0eqArS2GgsBeqgSn.png\n",
       "4          rps-cv-images\\paper\\0Og76sl5CJhbxWWx.png\n",
       "                           ...                     \n",
       "2183    rps-cv-images\\scissors\\zV0yCNG0C9s4GId3.png\n",
       "2184    rps-cv-images\\scissors\\zyml8p6mHzWWJTyw.png\n",
       "2185    rps-cv-images\\scissors\\ZyZeKfG5s1J9Qn64.png\n",
       "2186    rps-cv-images\\scissors\\Zz1djgkAdRqsHM3z.png\n",
       "2187    rps-cv-images\\scissors\\ZzIlyDP6opy9ifkB.png\n",
       "Name: image, Length: 2188, dtype: object"
      ]
     },
     "execution_count": 30,
     "metadata": {},
     "output_type": "execute_result"
    }
   ],
   "source": [
    "X"
   ]
  },
  {
   "cell_type": "code",
   "execution_count": 31,
   "metadata": {},
   "outputs": [
    {
     "data": {
      "text/plain": [
       "0          paper\n",
       "1          paper\n",
       "2          paper\n",
       "3          paper\n",
       "4          paper\n",
       "          ...   \n",
       "2183    scissors\n",
       "2184    scissors\n",
       "2185    scissors\n",
       "2186    scissors\n",
       "2187    scissors\n",
       "Name: label, Length: 2188, dtype: object"
      ]
     },
     "execution_count": 31,
     "metadata": {},
     "output_type": "execute_result"
    }
   ],
   "source": [
    "Y"
   ]
  },
  {
   "cell_type": "code",
   "execution_count": 32,
   "metadata": {},
   "outputs": [],
   "source": [
    "X_train, X_test, y_train, y_test = train_test_split(\n",
    "    X,\n",
    "    Y,\n",
    "    test_size = 0.2,\n",
    "    random_state = 42\n",
    ")"
   ]
  },
  {
   "cell_type": "code",
   "execution_count": 37,
   "metadata": {},
   "outputs": [
    {
     "data": {
      "text/plain": [
       "552        rps-cv-images\\paper\\SsvKZDW23vRQMUtA.png\n",
       "765         rps-cv-images\\rock\\4vXhIZv7KkPhyfX9.png\n",
       "479        rps-cv-images\\paper\\pUCjvjdpH5HSaWxl.png\n",
       "256        rps-cv-images\\paper\\fiX6rjBt5qHGMsjc.png\n",
       "1488    rps-cv-images\\scissors\\4E0THAnIciVeLK79.png\n",
       "                           ...                     \n",
       "1638    rps-cv-images\\scissors\\EBh8bZgOANio5kQw.png\n",
       "1095        rps-cv-images\\rock\\kW4W7E0A1Wpo45eL.png\n",
       "1130        rps-cv-images\\rock\\Mhco9qeEh5TV83cQ.png\n",
       "1294        rps-cv-images\\rock\\SNEJ1wGU1s9Dm3I1.png\n",
       "860         rps-cv-images\\rock\\BMet9oI6hmx1zdc9.png\n",
       "Name: image, Length: 1750, dtype: object"
      ]
     },
     "execution_count": 37,
     "metadata": {},
     "output_type": "execute_result"
    }
   ],
   "source": [
    "X_train"
   ]
  },
  {
   "cell_type": "code",
   "execution_count": 38,
   "metadata": {},
   "outputs": [
    {
     "data": {
      "text/plain": [
       "571        rps-cv-images\\paper\\TstngIvuLJt0GIze.png\n",
       "1317        rps-cv-images\\rock\\uCt8rigwmrP07ZVr.png\n",
       "2116    rps-cv-images\\scissors\\X04PclHUrXo1cF1d.png\n",
       "1563    rps-cv-images\\scissors\\aMTILDN4K2ZEjYAx.png\n",
       "1146        rps-cv-images\\rock\\N235Vnlue0M9SwaK.png\n",
       "                           ...                     \n",
       "861         rps-cv-images\\rock\\bn4i63wrObqbJECw.png\n",
       "1376        rps-cv-images\\rock\\XLXLcpDFWHNVkYQ6.png\n",
       "162        rps-cv-images\\paper\\BqGdYFfhQ4sOU5Xl.png\n",
       "1071        rps-cv-images\\rock\\jqMSEFiMhpIWzJfe.png\n",
       "1511    rps-cv-images\\scissors\\6gt1kvpjTKJIA7S0.png\n",
       "Name: image, Length: 438, dtype: object"
      ]
     },
     "execution_count": 38,
     "metadata": {},
     "output_type": "execute_result"
    }
   ],
   "source": [
    "X_test"
   ]
  },
  {
   "cell_type": "code",
   "execution_count": 39,
   "metadata": {},
   "outputs": [
    {
     "data": {
      "text/plain": [
       "552        paper\n",
       "765         rock\n",
       "479        paper\n",
       "256        paper\n",
       "1488    scissors\n",
       "          ...   \n",
       "1638    scissors\n",
       "1095        rock\n",
       "1130        rock\n",
       "1294        rock\n",
       "860         rock\n",
       "Name: label, Length: 1750, dtype: object"
      ]
     },
     "execution_count": 39,
     "metadata": {},
     "output_type": "execute_result"
    }
   ],
   "source": [
    "y_train"
   ]
  },
  {
   "cell_type": "code",
   "execution_count": 40,
   "metadata": {},
   "outputs": [
    {
     "data": {
      "text/plain": [
       "571        paper\n",
       "1317        rock\n",
       "2116    scissors\n",
       "1563    scissors\n",
       "1146        rock\n",
       "          ...   \n",
       "861         rock\n",
       "1376        rock\n",
       "162        paper\n",
       "1071        rock\n",
       "1511    scissors\n",
       "Name: label, Length: 438, dtype: object"
      ]
     },
     "execution_count": 40,
     "metadata": {},
     "output_type": "execute_result"
    }
   ],
   "source": [
    "y_test"
   ]
  },
  {
   "cell_type": "code",
   "execution_count": 41,
   "metadata": {},
   "outputs": [],
   "source": [
    "# Bagi data train menjadi train dan validation\n",
    "X_train, X_val, y_train, y_val = train_test_split(\n",
    "    X_train,\n",
    "    y_train,\n",
    "    test_size = 0.1,\n",
    "    random_state = 42\n",
    ")"
   ]
  },
  {
   "cell_type": "code",
   "execution_count": 42,
   "metadata": {},
   "outputs": [
    {
     "name": "stdout",
     "output_type": "stream",
     "text": [
      "Total data training 1575\n",
      "Total data validation 175\n",
      "Total data test 438\n"
     ]
    }
   ],
   "source": [
    "print(f\"Total data training {len(X_train)}\")\n",
    "print(f\"Total data validation {len(X_val)}\")\n",
    "print(f\"Total data test {len(X_test)}\")"
   ]
  },
  {
   "cell_type": "code",
   "execution_count": 43,
   "metadata": {},
   "outputs": [],
   "source": [
    "df_train = pd.DataFrame({\n",
    "    'image': X_train,\n",
    "    'label': y_train\n",
    "})\n",
    "\n",
    "df_val = pd.DataFrame({\n",
    "    'image': X_val,\n",
    "    'label': y_val\n",
    "})\n",
    "\n",
    "df_test = pd.DataFrame({\n",
    "    'image': X_test,\n",
    "    'label': y_test\n",
    "})"
   ]
  },
  {
   "cell_type": "code",
   "execution_count": 44,
   "metadata": {},
   "outputs": [
    {
     "data": {
      "text/html": [
       "<div>\n",
       "<style scoped>\n",
       "    .dataframe tbody tr th:only-of-type {\n",
       "        vertical-align: middle;\n",
       "    }\n",
       "\n",
       "    .dataframe tbody tr th {\n",
       "        vertical-align: top;\n",
       "    }\n",
       "\n",
       "    .dataframe thead th {\n",
       "        text-align: right;\n",
       "    }\n",
       "</style>\n",
       "<table border=\"1\" class=\"dataframe\">\n",
       "  <thead>\n",
       "    <tr style=\"text-align: right;\">\n",
       "      <th></th>\n",
       "      <th>image</th>\n",
       "      <th>label</th>\n",
       "    </tr>\n",
       "  </thead>\n",
       "  <tbody>\n",
       "    <tr>\n",
       "      <th>1234</th>\n",
       "      <td>rps-cv-images\\rock\\QKlibCXvATAv2H4i.png</td>\n",
       "      <td>rock</td>\n",
       "    </tr>\n",
       "    <tr>\n",
       "      <th>1984</th>\n",
       "      <td>rps-cv-images\\scissors\\RQgc9a0ml3hXrJXq.png</td>\n",
       "      <td>scissors</td>\n",
       "    </tr>\n",
       "    <tr>\n",
       "      <th>1653</th>\n",
       "      <td>rps-cv-images\\scissors\\eqJEQe8W9FP4TOck.png</td>\n",
       "      <td>scissors</td>\n",
       "    </tr>\n",
       "    <tr>\n",
       "      <th>868</th>\n",
       "      <td>rps-cv-images\\rock\\brzyLjsQoGb8cmBe.png</td>\n",
       "      <td>rock</td>\n",
       "    </tr>\n",
       "    <tr>\n",
       "      <th>819</th>\n",
       "      <td>rps-cv-images\\rock\\94oKRQFyit6SANlq.png</td>\n",
       "      <td>rock</td>\n",
       "    </tr>\n",
       "    <tr>\n",
       "      <th>...</th>\n",
       "      <td>...</td>\n",
       "      <td>...</td>\n",
       "    </tr>\n",
       "    <tr>\n",
       "      <th>1980</th>\n",
       "      <td>rps-cv-images\\scissors\\rOigyekSUNnTrmz6.png</td>\n",
       "      <td>scissors</td>\n",
       "    </tr>\n",
       "    <tr>\n",
       "      <th>1978</th>\n",
       "      <td>rps-cv-images\\scissors\\Rk0jnjn8GxT17vIT.png</td>\n",
       "      <td>scissors</td>\n",
       "    </tr>\n",
       "    <tr>\n",
       "      <th>2100</th>\n",
       "      <td>rps-cv-images\\scissors\\wJNyEIqVDFH8bx5h.png</td>\n",
       "      <td>scissors</td>\n",
       "    </tr>\n",
       "    <tr>\n",
       "      <th>1415</th>\n",
       "      <td>rps-cv-images\\rock\\yxZyXGFCtnDwavIo.png</td>\n",
       "      <td>rock</td>\n",
       "    </tr>\n",
       "    <tr>\n",
       "      <th>1580</th>\n",
       "      <td>rps-cv-images\\scissors\\BJwCAwQV0EWaUT1X.png</td>\n",
       "      <td>scissors</td>\n",
       "    </tr>\n",
       "  </tbody>\n",
       "</table>\n",
       "<p>1575 rows × 2 columns</p>\n",
       "</div>"
      ],
      "text/plain": [
       "                                            image     label\n",
       "1234      rps-cv-images\\rock\\QKlibCXvATAv2H4i.png      rock\n",
       "1984  rps-cv-images\\scissors\\RQgc9a0ml3hXrJXq.png  scissors\n",
       "1653  rps-cv-images\\scissors\\eqJEQe8W9FP4TOck.png  scissors\n",
       "868       rps-cv-images\\rock\\brzyLjsQoGb8cmBe.png      rock\n",
       "819       rps-cv-images\\rock\\94oKRQFyit6SANlq.png      rock\n",
       "...                                           ...       ...\n",
       "1980  rps-cv-images\\scissors\\rOigyekSUNnTrmz6.png  scissors\n",
       "1978  rps-cv-images\\scissors\\Rk0jnjn8GxT17vIT.png  scissors\n",
       "2100  rps-cv-images\\scissors\\wJNyEIqVDFH8bx5h.png  scissors\n",
       "1415      rps-cv-images\\rock\\yxZyXGFCtnDwavIo.png      rock\n",
       "1580  rps-cv-images\\scissors\\BJwCAwQV0EWaUT1X.png  scissors\n",
       "\n",
       "[1575 rows x 2 columns]"
      ]
     },
     "execution_count": 44,
     "metadata": {},
     "output_type": "execute_result"
    }
   ],
   "source": [
    "df_train"
   ]
  },
  {
   "cell_type": "code",
   "execution_count": 45,
   "metadata": {},
   "outputs": [
    {
     "data": {
      "text/html": [
       "<div>\n",
       "<style scoped>\n",
       "    .dataframe tbody tr th:only-of-type {\n",
       "        vertical-align: middle;\n",
       "    }\n",
       "\n",
       "    .dataframe tbody tr th {\n",
       "        vertical-align: top;\n",
       "    }\n",
       "\n",
       "    .dataframe thead th {\n",
       "        text-align: right;\n",
       "    }\n",
       "</style>\n",
       "<table border=\"1\" class=\"dataframe\">\n",
       "  <thead>\n",
       "    <tr style=\"text-align: right;\">\n",
       "      <th></th>\n",
       "      <th>image</th>\n",
       "      <th>label</th>\n",
       "    </tr>\n",
       "  </thead>\n",
       "  <tbody>\n",
       "    <tr>\n",
       "      <th>473</th>\n",
       "      <td>rps-cv-images\\paper\\pMQfFsmXAu2xZuUv.png</td>\n",
       "      <td>paper</td>\n",
       "    </tr>\n",
       "    <tr>\n",
       "      <th>1302</th>\n",
       "      <td>rps-cv-images\\rock\\tErKQ83tdngWfp23.png</td>\n",
       "      <td>rock</td>\n",
       "    </tr>\n",
       "    <tr>\n",
       "      <th>1969</th>\n",
       "      <td>rps-cv-images\\scissors\\Rc1pRmm4p20kAl7A.png</td>\n",
       "      <td>scissors</td>\n",
       "    </tr>\n",
       "    <tr>\n",
       "      <th>60</th>\n",
       "      <td>rps-cv-images\\paper\\5FVy5hSvZ9c0M2Y5.png</td>\n",
       "      <td>paper</td>\n",
       "    </tr>\n",
       "    <tr>\n",
       "      <th>1843</th>\n",
       "      <td>rps-cv-images\\scissors\\mBHQsHWDcRvtLIKC.png</td>\n",
       "      <td>scissors</td>\n",
       "    </tr>\n",
       "    <tr>\n",
       "      <th>...</th>\n",
       "      <td>...</td>\n",
       "      <td>...</td>\n",
       "    </tr>\n",
       "    <tr>\n",
       "      <th>577</th>\n",
       "      <td>rps-cv-images\\paper\\U2InMVDH10R24eOb.png</td>\n",
       "      <td>paper</td>\n",
       "    </tr>\n",
       "    <tr>\n",
       "      <th>1757</th>\n",
       "      <td>rps-cv-images\\scissors\\IZYmxHXE1DVHJfYm.png</td>\n",
       "      <td>scissors</td>\n",
       "    </tr>\n",
       "    <tr>\n",
       "      <th>991</th>\n",
       "      <td>rps-cv-images\\rock\\GRUlZRON6TdcmAOe.png</td>\n",
       "      <td>rock</td>\n",
       "    </tr>\n",
       "    <tr>\n",
       "      <th>1997</th>\n",
       "      <td>rps-cv-images\\scissors\\sC3hanWBPaeGV4xg.png</td>\n",
       "      <td>scissors</td>\n",
       "    </tr>\n",
       "    <tr>\n",
       "      <th>1495</th>\n",
       "      <td>rps-cv-images\\scissors\\55yz6JI9f5DTbq9D.png</td>\n",
       "      <td>scissors</td>\n",
       "    </tr>\n",
       "  </tbody>\n",
       "</table>\n",
       "<p>175 rows × 2 columns</p>\n",
       "</div>"
      ],
      "text/plain": [
       "                                            image     label\n",
       "473      rps-cv-images\\paper\\pMQfFsmXAu2xZuUv.png     paper\n",
       "1302      rps-cv-images\\rock\\tErKQ83tdngWfp23.png      rock\n",
       "1969  rps-cv-images\\scissors\\Rc1pRmm4p20kAl7A.png  scissors\n",
       "60       rps-cv-images\\paper\\5FVy5hSvZ9c0M2Y5.png     paper\n",
       "1843  rps-cv-images\\scissors\\mBHQsHWDcRvtLIKC.png  scissors\n",
       "...                                           ...       ...\n",
       "577      rps-cv-images\\paper\\U2InMVDH10R24eOb.png     paper\n",
       "1757  rps-cv-images\\scissors\\IZYmxHXE1DVHJfYm.png  scissors\n",
       "991       rps-cv-images\\rock\\GRUlZRON6TdcmAOe.png      rock\n",
       "1997  rps-cv-images\\scissors\\sC3hanWBPaeGV4xg.png  scissors\n",
       "1495  rps-cv-images\\scissors\\55yz6JI9f5DTbq9D.png  scissors\n",
       "\n",
       "[175 rows x 2 columns]"
      ]
     },
     "execution_count": 45,
     "metadata": {},
     "output_type": "execute_result"
    }
   ],
   "source": [
    "df_val"
   ]
  },
  {
   "cell_type": "code",
   "execution_count": 51,
   "metadata": {},
   "outputs": [
    {
     "data": {
      "text/html": [
       "<div>\n",
       "<style scoped>\n",
       "    .dataframe tbody tr th:only-of-type {\n",
       "        vertical-align: middle;\n",
       "    }\n",
       "\n",
       "    .dataframe tbody tr th {\n",
       "        vertical-align: top;\n",
       "    }\n",
       "\n",
       "    .dataframe thead th {\n",
       "        text-align: right;\n",
       "    }\n",
       "</style>\n",
       "<table border=\"1\" class=\"dataframe\">\n",
       "  <thead>\n",
       "    <tr style=\"text-align: right;\">\n",
       "      <th></th>\n",
       "      <th>image</th>\n",
       "      <th>label</th>\n",
       "    </tr>\n",
       "  </thead>\n",
       "  <tbody>\n",
       "    <tr>\n",
       "      <th>571</th>\n",
       "      <td>rps-cv-images\\paper\\TstngIvuLJt0GIze.png</td>\n",
       "      <td>paper</td>\n",
       "    </tr>\n",
       "    <tr>\n",
       "      <th>1317</th>\n",
       "      <td>rps-cv-images\\rock\\uCt8rigwmrP07ZVr.png</td>\n",
       "      <td>rock</td>\n",
       "    </tr>\n",
       "    <tr>\n",
       "      <th>2116</th>\n",
       "      <td>rps-cv-images\\scissors\\X04PclHUrXo1cF1d.png</td>\n",
       "      <td>scissors</td>\n",
       "    </tr>\n",
       "    <tr>\n",
       "      <th>1563</th>\n",
       "      <td>rps-cv-images\\scissors\\aMTILDN4K2ZEjYAx.png</td>\n",
       "      <td>scissors</td>\n",
       "    </tr>\n",
       "    <tr>\n",
       "      <th>1146</th>\n",
       "      <td>rps-cv-images\\rock\\N235Vnlue0M9SwaK.png</td>\n",
       "      <td>rock</td>\n",
       "    </tr>\n",
       "    <tr>\n",
       "      <th>...</th>\n",
       "      <td>...</td>\n",
       "      <td>...</td>\n",
       "    </tr>\n",
       "    <tr>\n",
       "      <th>861</th>\n",
       "      <td>rps-cv-images\\rock\\bn4i63wrObqbJECw.png</td>\n",
       "      <td>rock</td>\n",
       "    </tr>\n",
       "    <tr>\n",
       "      <th>1376</th>\n",
       "      <td>rps-cv-images\\rock\\XLXLcpDFWHNVkYQ6.png</td>\n",
       "      <td>rock</td>\n",
       "    </tr>\n",
       "    <tr>\n",
       "      <th>162</th>\n",
       "      <td>rps-cv-images\\paper\\BqGdYFfhQ4sOU5Xl.png</td>\n",
       "      <td>paper</td>\n",
       "    </tr>\n",
       "    <tr>\n",
       "      <th>1071</th>\n",
       "      <td>rps-cv-images\\rock\\jqMSEFiMhpIWzJfe.png</td>\n",
       "      <td>rock</td>\n",
       "    </tr>\n",
       "    <tr>\n",
       "      <th>1511</th>\n",
       "      <td>rps-cv-images\\scissors\\6gt1kvpjTKJIA7S0.png</td>\n",
       "      <td>scissors</td>\n",
       "    </tr>\n",
       "  </tbody>\n",
       "</table>\n",
       "<p>438 rows × 2 columns</p>\n",
       "</div>"
      ],
      "text/plain": [
       "                                            image     label\n",
       "571      rps-cv-images\\paper\\TstngIvuLJt0GIze.png     paper\n",
       "1317      rps-cv-images\\rock\\uCt8rigwmrP07ZVr.png      rock\n",
       "2116  rps-cv-images\\scissors\\X04PclHUrXo1cF1d.png  scissors\n",
       "1563  rps-cv-images\\scissors\\aMTILDN4K2ZEjYAx.png  scissors\n",
       "1146      rps-cv-images\\rock\\N235Vnlue0M9SwaK.png      rock\n",
       "...                                           ...       ...\n",
       "861       rps-cv-images\\rock\\bn4i63wrObqbJECw.png      rock\n",
       "1376      rps-cv-images\\rock\\XLXLcpDFWHNVkYQ6.png      rock\n",
       "162      rps-cv-images\\paper\\BqGdYFfhQ4sOU5Xl.png     paper\n",
       "1071      rps-cv-images\\rock\\jqMSEFiMhpIWzJfe.png      rock\n",
       "1511  rps-cv-images\\scissors\\6gt1kvpjTKJIA7S0.png  scissors\n",
       "\n",
       "[438 rows x 2 columns]"
      ]
     },
     "execution_count": 51,
     "metadata": {},
     "output_type": "execute_result"
    }
   ],
   "source": [
    "df_test"
   ]
  },
  {
   "cell_type": "markdown",
   "metadata": {},
   "source": [
    "## 3.2. Image Augmentations"
   ]
  },
  {
   "cell_type": "code",
   "execution_count": 48,
   "metadata": {},
   "outputs": [],
   "source": [
    "from tensorflow.keras.preprocessing.image import ImageDataGenerator"
   ]
  },
  {
   "cell_type": "code",
   "execution_count": 49,
   "metadata": {},
   "outputs": [],
   "source": [
    "train_datagen = ImageDataGenerator(\n",
    "    rescale = 1/255,\n",
    "    rotation_range = 45,\n",
    "    horizontal_flip = True,\n",
    "    zoom_range = 0.2,\n",
    "    width_shift_range = 0.2,\n",
    "    height_shift_range = 0.2 \n",
    ")\n",
    "\n",
    "val_datagen = ImageDataGenerator(\n",
    "    rescale = 1/255\n",
    ")\n",
    "\n",
    "test_datagen = ImageDataGenerator(\n",
    "    rescale = 1/255\n",
    ")"
   ]
  },
  {
   "cell_type": "code",
   "execution_count": 52,
   "metadata": {},
   "outputs": [
    {
     "name": "stdout",
     "output_type": "stream",
     "text": [
      "Found 1575 validated image filenames belonging to 3 classes.\n",
      "Found 175 validated image filenames belonging to 3 classes.\n",
      "Found 438 validated image filenames belonging to 3 classes.\n"
     ]
    }
   ],
   "source": [
    "train = train_datagen.flow_from_dataframe(\n",
    "    df_train,\n",
    "    x_col = 'image',\n",
    "    y_col = 'label',\n",
    "    target_size = (50, 50),\n",
    "    batch_size = 64,\n",
    "    class_mode = 'categorical',\n",
    "    color_mode = 'grayscale',\n",
    "    shuffle = True\n",
    ")\n",
    "\n",
    "\n",
    "val = val_datagen.flow_from_dataframe(\n",
    "    df_val,\n",
    "    x_col = 'image',\n",
    "    y_col = 'label',\n",
    "    target_size = (50, 50),\n",
    "    batch_size = 64,\n",
    "    class_mode = 'categorical',\n",
    "    color_mode = 'grayscale',\n",
    "    shuffle = True\n",
    ")\n",
    "\n",
    "test = test_datagen.flow_from_dataframe(\n",
    "    df_test,\n",
    "    x_col = 'image',\n",
    "    y_col = 'label',\n",
    "    target_size = (50, 50),\n",
    "    batch_size = 64,\n",
    "    class_mode = 'categorical',\n",
    "    color_mode = 'grayscale',\n",
    "    shuffle = True\n",
    ")"
   ]
  },
  {
   "cell_type": "code",
   "execution_count": 53,
   "metadata": {},
   "outputs": [
    {
     "data": {
      "text/plain": [
       "{'paper': 0, 'rock': 1, 'scissors': 2}"
      ]
     },
     "execution_count": 53,
     "metadata": {},
     "output_type": "execute_result"
    }
   ],
   "source": [
    "train.class_indices"
   ]
  },
  {
   "cell_type": "code",
   "execution_count": 54,
   "metadata": {},
   "outputs": [
    {
     "data": {
      "text/plain": [
       "{'paper': 0, 'rock': 1, 'scissors': 2}"
      ]
     },
     "execution_count": 54,
     "metadata": {},
     "output_type": "execute_result"
    }
   ],
   "source": [
    "val.class_indices"
   ]
  },
  {
   "cell_type": "code",
   "execution_count": 55,
   "metadata": {},
   "outputs": [
    {
     "data": {
      "text/plain": [
       "{'paper': 0, 'rock': 1, 'scissors': 2}"
      ]
     },
     "execution_count": 55,
     "metadata": {},
     "output_type": "execute_result"
    }
   ],
   "source": [
    "test.class_indices"
   ]
  },
  {
   "cell_type": "markdown",
   "metadata": {},
   "source": [
    "# 4. Modeling"
   ]
  },
  {
   "cell_type": "code",
   "execution_count": 56,
   "metadata": {},
   "outputs": [],
   "source": [
    "from tensorflow.keras.models import Sequential\n",
    "from tensorflow.keras.layers import Conv2D, MaxPool2D, Flatten, Dense"
   ]
  },
  {
   "cell_type": "markdown",
   "metadata": {},
   "source": [
    "## 4.1. CNN Architecture"
   ]
  },
  {
   "cell_type": "code",
   "execution_count": 57,
   "metadata": {},
   "outputs": [
    {
     "name": "stderr",
     "output_type": "stream",
     "text": [
      "c:\\Users\\laode\\OneDrive\\Documents\\Elektrobot\\.venv\\Lib\\site-packages\\keras\\src\\layers\\convolutional\\base_conv.py:107: UserWarning: Do not pass an `input_shape`/`input_dim` argument to a layer. When using Sequential models, prefer using an `Input(shape)` object as the first layer in the model instead.\n",
      "  super().__init__(activity_regularizer=activity_regularizer, **kwargs)\n"
     ]
    }
   ],
   "source": [
    "model = Sequential()\n",
    "\n",
    "# Lapisan pertama: input + convulution + relu\n",
    "model.add(\n",
    "    Conv2D(32, kernel_size=(3, 3), activation = 'relu', input_shape = (50, 50, 1))\n",
    ")\n",
    "\n",
    "# Pooling layer\n",
    "model.add(\n",
    "    MaxPool2D(pool_size = (2, 2))\n",
    ")\n",
    "\n",
    "# Conv layer\n",
    "model.add(\n",
    "    Conv2D(64, kernel_size=(3, 3), activation = 'relu')\n",
    ")\n",
    "\n",
    "# Pooling layer\n",
    "model.add(\n",
    "    MaxPool2D(pool_size = (2, 2))\n",
    ")\n",
    "\n",
    "# Conv layer\n",
    "model.add(\n",
    "    Conv2D(128, kernel_size=(3, 3), activation = 'relu')\n",
    ")\n",
    "\n",
    "# Pooling layer\n",
    "model.add(\n",
    "    MaxPool2D(pool_size = (2, 2))\n",
    ")\n",
    "\n",
    "# Conv layer\n",
    "model.add(\n",
    "    Conv2D(256, kernel_size=(3, 3), activation = 'relu')\n",
    ")\n",
    "\n",
    "# Pooling layer\n",
    "model.add(\n",
    "    MaxPool2D(pool_size = (2, 2))\n",
    ")\n",
    "\n",
    "# Flatten layer\n",
    "model.add(\n",
    "    Flatten()\n",
    ")\n",
    "\n",
    "# Hidden layer\n",
    "model.add(\n",
    "    Dense(512, activation = 'relu')\n",
    ")\n",
    "\n",
    "# Output layer\n",
    "model.add(\n",
    "    Dense(3, activation = 'softmax')\n",
    ")"
   ]
  },
  {
   "cell_type": "markdown",
   "metadata": {},
   "source": [
    "## 4.2. Model Compiling"
   ]
  },
  {
   "cell_type": "code",
   "execution_count": 59,
   "metadata": {},
   "outputs": [],
   "source": [
    "model.compile(\n",
    "    loss = 'categorical_crossentropy',\n",
    "    optimizer = 'adam',\n",
    "    metrics = ['accuracy']\n",
    ")"
   ]
  },
  {
   "cell_type": "markdown",
   "metadata": {},
   "source": [
    "## 4.3. Model Training"
   ]
  },
  {
   "cell_type": "code",
   "execution_count": 62,
   "metadata": {},
   "outputs": [
    {
     "name": "stdout",
     "output_type": "stream",
     "text": [
      "Epoch 1/10\n",
      "\u001b[1m25/25\u001b[0m \u001b[32m━━━━━━━━━━━━━━━━━━━━\u001b[0m\u001b[37m\u001b[0m \u001b[1m20s\u001b[0m 790ms/step - accuracy: 0.3673 - loss: 1.0944 - val_accuracy: 0.6286 - val_loss: 0.9840\n",
      "Epoch 2/10\n",
      "\u001b[1m25/25\u001b[0m \u001b[32m━━━━━━━━━━━━━━━━━━━━\u001b[0m\u001b[37m\u001b[0m \u001b[1m17s\u001b[0m 694ms/step - accuracy: 0.5102 - loss: 0.9699 - val_accuracy: 0.7429 - val_loss: 0.5822\n",
      "Epoch 3/10\n",
      "\u001b[1m25/25\u001b[0m \u001b[32m━━━━━━━━━━━━━━━━━━━━\u001b[0m\u001b[37m\u001b[0m \u001b[1m21s\u001b[0m 709ms/step - accuracy: 0.6064 - loss: 0.7797 - val_accuracy: 0.7657 - val_loss: 0.5030\n",
      "Epoch 4/10\n",
      "\u001b[1m25/25\u001b[0m \u001b[32m━━━━━━━━━━━━━━━━━━━━\u001b[0m\u001b[37m\u001b[0m \u001b[1m22s\u001b[0m 881ms/step - accuracy: 0.6090 - loss: 0.7505 - val_accuracy: 0.7429 - val_loss: 0.4679\n",
      "Epoch 5/10\n",
      "\u001b[1m25/25\u001b[0m \u001b[32m━━━━━━━━━━━━━━━━━━━━\u001b[0m\u001b[37m\u001b[0m \u001b[1m18s\u001b[0m 739ms/step - accuracy: 0.6471 - loss: 0.6263 - val_accuracy: 0.8571 - val_loss: 0.4066\n",
      "Epoch 6/10\n",
      "\u001b[1m25/25\u001b[0m \u001b[32m━━━━━━━━━━━━━━━━━━━━\u001b[0m\u001b[37m\u001b[0m \u001b[1m16s\u001b[0m 640ms/step - accuracy: 0.7341 - loss: 0.5743 - val_accuracy: 0.9429 - val_loss: 0.3541\n",
      "Epoch 7/10\n",
      "\u001b[1m25/25\u001b[0m \u001b[32m━━━━━━━━━━━━━━━━━━━━\u001b[0m\u001b[37m\u001b[0m \u001b[1m15s\u001b[0m 581ms/step - accuracy: 0.7836 - loss: 0.5395 - val_accuracy: 0.9486 - val_loss: 0.1971\n",
      "Epoch 8/10\n",
      "\u001b[1m25/25\u001b[0m \u001b[32m━━━━━━━━━━━━━━━━━━━━\u001b[0m\u001b[37m\u001b[0m \u001b[1m16s\u001b[0m 652ms/step - accuracy: 0.8234 - loss: 0.4255 - val_accuracy: 0.9314 - val_loss: 0.2176\n",
      "Epoch 9/10\n",
      "\u001b[1m25/25\u001b[0m \u001b[32m━━━━━━━━━━━━━━━━━━━━\u001b[0m\u001b[37m\u001b[0m \u001b[1m21s\u001b[0m 824ms/step - accuracy: 0.8815 - loss: 0.3101 - val_accuracy: 0.9714 - val_loss: 0.0919\n",
      "Epoch 10/10\n",
      "\u001b[1m25/25\u001b[0m \u001b[32m━━━━━━━━━━━━━━━━━━━━\u001b[0m\u001b[37m\u001b[0m \u001b[1m15s\u001b[0m 617ms/step - accuracy: 0.9022 - loss: 0.2526 - val_accuracy: 0.9657 - val_loss: 0.1237\n"
     ]
    }
   ],
   "source": [
    "learning_history = model.fit(\n",
    "    train,\n",
    "    validation_data = val,\n",
    "    epochs = 10\n",
    ")"
   ]
  },
  {
   "cell_type": "code",
   "execution_count": 63,
   "metadata": {},
   "outputs": [
    {
     "data": {
      "text/plain": [
       "<function matplotlib.pyplot.show(close=None, block=None)>"
      ]
     },
     "execution_count": 63,
     "metadata": {},
     "output_type": "execute_result"
    },
    {
     "data": {
      "image/png": "[encoded data removed]",
      "text/plain": [
       "<Figure size 1000x600 with 1 Axes>"
      ]
     },
     "metadata": {},
     "output_type": "display_data"
    }
   ],
   "source": [
    "import matplotlib.pyplot as plt\n",
    "\n",
    "plt.figure(figsize = (10, 6))\n",
    "plt.plot(learning_history.history['accuracy'])\n",
    "plt.plot(learning_history.history['val_accuracy'])\n",
    "plt.title(\"Training and Validations Accuracy\")\n",
    "plt.xlabel(\"Epochs\")\n",
    "plt.ylabel(\"Accuracy\")\n",
    "plt.legend(['Train', 'Val'])\n",
    "plt.show"
   ]
  },
  {
   "cell_type": "code",
   "execution_count": 64,
   "metadata": {},
   "outputs": [
    {
     "data": {
      "text/plain": [
       "<function matplotlib.pyplot.show(close=None, block=None)>"
      ]
     },
     "execution_count": 64,
     "metadata": {},
     "output_type": "execute_result"
    },
    {
     "data": {
      "image/png": "[encoded data removed]",
      "text/plain": [
       "<Figure size 1000x600 with 1 Axes>"
      ]
     },
     "metadata": {},
     "output_type": "display_data"
    }
   ],
   "source": [
    "plt.figure(figsize = (10, 6))\n",
    "plt.plot(learning_history.history['loss'])\n",
    "plt.plot(learning_history.history['val_loss'])\n",
    "plt.title(\"Training and Validations Loss\")\n",
    "plt.xlabel(\"Epochs\")\n",
    "plt.ylabel(\"Loss\")\n",
    "plt.legend(['Train', 'Val'])\n",
    "plt.show"
   ]
  },
  {
   "cell_type": "markdown",
   "metadata": {},
   "source": [
    "## 4.3. Model Evaluations"
   ]
  },
  {
   "cell_type": "code",
   "execution_count": 65,
   "metadata": {},
   "outputs": [
    {
     "name": "stderr",
     "output_type": "stream",
     "text": [
      "c:\\Users\\laode\\OneDrive\\Documents\\Elektrobot\\.venv\\Lib\\site-packages\\keras\\src\\trainers\\data_adapters\\py_dataset_adapter.py:121: UserWarning: Your `PyDataset` class should call `super().__init__(**kwargs)` in its constructor. `**kwargs` can include `workers`, `use_multiprocessing`, `max_queue_size`. Do not pass these arguments to `fit()`, as they will be ignored.\n",
      "  self._warn_if_super_not_called()\n"
     ]
    },
    {
     "name": "stdout",
     "output_type": "stream",
     "text": [
      "\u001b[1m7/7\u001b[0m \u001b[32m━━━━━━━━━━━━━━━━━━━━\u001b[0m\u001b[37m\u001b[0m \u001b[1m6s\u001b[0m 757ms/step - accuracy: 0.9742 - loss: 0.1045\n"
     ]
    },
    {
     "data": {
      "text/plain": [
       "[0.1244945079088211, 0.9611872434616089]"
      ]
     },
     "execution_count": 65,
     "metadata": {},
     "output_type": "execute_result"
    }
   ],
   "source": [
    "model.evaluate(test)"
   ]
  },
  {
   "cell_type": "markdown",
   "metadata": {},
   "source": [
    "## 4.4. Save Model"
   ]
  },
  {
   "cell_type": "code",
   "execution_count": 66,
   "metadata": {},
   "outputs": [],
   "source": [
    "model.save('rps_classification.keras')"
   ]
  },
  {
   "cell_type": "markdown",
   "metadata": {},
   "source": [
    "# 5. Prediction"
   ]
  },
  {
   "cell_type": "markdown",
   "metadata": {},
   "source": [
    "## 5.1. Load model"
   ]
  },
  {
   "cell_type": "code",
   "execution_count": 67,
   "metadata": {},
   "outputs": [],
   "source": [
    "from tensorflow.keras.models import load_model\n",
    "\n",
    "model = load_model('rps_classification.keras')"
   ]
  },
  {
   "cell_type": "code",
   "execution_count": 68,
   "metadata": {},
   "outputs": [
    {
     "data": {
      "text/html": [
       "<pre style=\"white-space:pre;overflow-x:auto;line-height:normal;font-family:Menlo,'DejaVu Sans Mono',consolas,'Courier New',monospace\"><span style=\"font-weight: bold\">Model: \"sequential\"</span>\n",
       "</pre>\n"
      ],
      "text/plain": [
       "\u001b[1mModel: \"sequential\"\u001b[0m\n"
      ]
     },
     "metadata": {},
     "output_type": "display_data"
    },
    {
     "data": {
      "text/html": [
       "<pre style=\"white-space:pre;overflow-x:auto;line-height:normal;font-family:Menlo,'DejaVu Sans Mono',consolas,'Courier New',monospace\">┏━━━━━━━━━━━━━━━━━━━━━━━━━━━━━━━━━┳━━━━━━━━━━━━━━━━━━━━━━━━┳━━━━━━━━━━━━━━━┓\n",
       "┃<span style=\"font-weight: bold\"> Layer (type)                    </span>┃<span style=\"font-weight: bold\"> Output Shape           </span>┃<span style=\"font-weight: bold\">       Param # </span>┃\n",
       "┡━━━━━━━━━━━━━━━━━━━━━━━━━━━━━━━━━╇━━━━━━━━━━━━━━━━━━━━━━━━╇━━━━━━━━━━━━━━━┩\n",
       "│ conv2d (<span style=\"color: #0087ff; text-decoration-color: #0087ff\">Conv2D</span>)                 │ (<span style=\"color: #00d7ff; text-decoration-color: #00d7ff\">None</span>, <span style=\"color: #00af00; text-decoration-color: #00af00\">48</span>, <span style=\"color: #00af00; text-decoration-color: #00af00\">48</span>, <span style=\"color: #00af00; text-decoration-color: #00af00\">32</span>)     │           <span style=\"color: #00af00; text-decoration-color: #00af00\">320</span> │\n",
       "├─────────────────────────────────┼────────────────────────┼───────────────┤\n",
       "│ max_pooling2d (<span style=\"color: #0087ff; text-decoration-color: #0087ff\">MaxPooling2D</span>)    │ (<span style=\"color: #00d7ff; text-decoration-color: #00d7ff\">None</span>, <span style=\"color: #00af00; text-decoration-color: #00af00\">24</span>, <span style=\"color: #00af00; text-decoration-color: #00af00\">24</span>, <span style=\"color: #00af00; text-decoration-color: #00af00\">32</span>)     │             <span style=\"color: #00af00; text-decoration-color: #00af00\">0</span> │\n",
       "├─────────────────────────────────┼────────────────────────┼───────────────┤\n",
       "│ conv2d_1 (<span style=\"color: #0087ff; text-decoration-color: #0087ff\">Conv2D</span>)               │ (<span style=\"color: #00d7ff; text-decoration-color: #00d7ff\">None</span>, <span style=\"color: #00af00; text-decoration-color: #00af00\">22</span>, <span style=\"color: #00af00; text-decoration-color: #00af00\">22</span>, <span style=\"color: #00af00; text-decoration-color: #00af00\">64</span>)     │        <span style=\"color: #00af00; text-decoration-color: #00af00\">18,496</span> │\n",
       "├─────────────────────────────────┼────────────────────────┼───────────────┤\n",
       "│ max_pooling2d_1 (<span style=\"color: #0087ff; text-decoration-color: #0087ff\">MaxPooling2D</span>)  │ (<span style=\"color: #00d7ff; text-decoration-color: #00d7ff\">None</span>, <span style=\"color: #00af00; text-decoration-color: #00af00\">11</span>, <span style=\"color: #00af00; text-decoration-color: #00af00\">11</span>, <span style=\"color: #00af00; text-decoration-color: #00af00\">64</span>)     │             <span style=\"color: #00af00; text-decoration-color: #00af00\">0</span> │\n",
       "├─────────────────────────────────┼────────────────────────┼───────────────┤\n",
       "│ conv2d_2 (<span style=\"color: #0087ff; text-decoration-color: #0087ff\">Conv2D</span>)               │ (<span style=\"color: #00d7ff; text-decoration-color: #00d7ff\">None</span>, <span style=\"color: #00af00; text-decoration-color: #00af00\">9</span>, <span style=\"color: #00af00; text-decoration-color: #00af00\">9</span>, <span style=\"color: #00af00; text-decoration-color: #00af00\">128</span>)      │        <span style=\"color: #00af00; text-decoration-color: #00af00\">73,856</span> │\n",
       "├─────────────────────────────────┼────────────────────────┼───────────────┤\n",
       "│ max_pooling2d_2 (<span style=\"color: #0087ff; text-decoration-color: #0087ff\">MaxPooling2D</span>)  │ (<span style=\"color: #00d7ff; text-decoration-color: #00d7ff\">None</span>, <span style=\"color: #00af00; text-decoration-color: #00af00\">4</span>, <span style=\"color: #00af00; text-decoration-color: #00af00\">4</span>, <span style=\"color: #00af00; text-decoration-color: #00af00\">128</span>)      │             <span style=\"color: #00af00; text-decoration-color: #00af00\">0</span> │\n",
       "├─────────────────────────────────┼────────────────────────┼───────────────┤\n",
       "│ conv2d_3 (<span style=\"color: #0087ff; text-decoration-color: #0087ff\">Conv2D</span>)               │ (<span style=\"color: #00d7ff; text-decoration-color: #00d7ff\">None</span>, <span style=\"color: #00af00; text-decoration-color: #00af00\">2</span>, <span style=\"color: #00af00; text-decoration-color: #00af00\">2</span>, <span style=\"color: #00af00; text-decoration-color: #00af00\">256</span>)      │       <span style=\"color: #00af00; text-decoration-color: #00af00\">295,168</span> │\n",
       "├─────────────────────────────────┼────────────────────────┼───────────────┤\n",
       "│ max_pooling2d_3 (<span style=\"color: #0087ff; text-decoration-color: #0087ff\">MaxPooling2D</span>)  │ (<span style=\"color: #00d7ff; text-decoration-color: #00d7ff\">None</span>, <span style=\"color: #00af00; text-decoration-color: #00af00\">1</span>, <span style=\"color: #00af00; text-decoration-color: #00af00\">1</span>, <span style=\"color: #00af00; text-decoration-color: #00af00\">256</span>)      │             <span style=\"color: #00af00; text-decoration-color: #00af00\">0</span> │\n",
       "├─────────────────────────────────┼────────────────────────┼───────────────┤\n",
       "│ flatten (<span style=\"color: #0087ff; text-decoration-color: #0087ff\">Flatten</span>)               │ (<span style=\"color: #00d7ff; text-decoration-color: #00d7ff\">None</span>, <span style=\"color: #00af00; text-decoration-color: #00af00\">256</span>)            │             <span style=\"color: #00af00; text-decoration-color: #00af00\">0</span> │\n",
       "├─────────────────────────────────┼────────────────────────┼───────────────┤\n",
       "│ dense (<span style=\"color: #0087ff; text-decoration-color: #0087ff\">Dense</span>)                   │ (<span style=\"color: #00d7ff; text-decoration-color: #00d7ff\">None</span>, <span style=\"color: #00af00; text-decoration-color: #00af00\">512</span>)            │       <span style=\"color: #00af00; text-decoration-color: #00af00\">131,584</span> │\n",
       "├─────────────────────────────────┼────────────────────────┼───────────────┤\n",
       "│ dense_1 (<span style=\"color: #0087ff; text-decoration-color: #0087ff\">Dense</span>)                 │ (<span style=\"color: #00d7ff; text-decoration-color: #00d7ff\">None</span>, <span style=\"color: #00af00; text-decoration-color: #00af00\">3</span>)              │         <span style=\"color: #00af00; text-decoration-color: #00af00\">1,539</span> │\n",
       "└─────────────────────────────────┴────────────────────────┴───────────────┘\n",
       "</pre>\n"
      ],
      "text/plain": [
       "┏━━━━━━━━━━━━━━━━━━━━━━━━━━━━━━━━━┳━━━━━━━━━━━━━━━━━━━━━━━━┳━━━━━━━━━━━━━━━┓\n",
       "┃\u001b[1m \u001b[0m\u001b[1mLayer (type)                   \u001b[0m\u001b[1m \u001b[0m┃\u001b[1m \u001b[0m\u001b[1mOutput Shape          \u001b[0m\u001b[1m \u001b[0m┃\u001b[1m \u001b[0m\u001b[1m      Param #\u001b[0m\u001b[1m \u001b[0m┃\n",
       "┡━━━━━━━━━━━━━━━━━━━━━━━━━━━━━━━━━╇━━━━━━━━━━━━━━━━━━━━━━━━╇━━━━━━━━━━━━━━━┩\n",
       "│ conv2d (\u001b[38;5;33mConv2D\u001b[0m)                 │ (\u001b[38;5;45mNone\u001b[0m, \u001b[38;5;34m48\u001b[0m, \u001b[38;5;34m48\u001b[0m, \u001b[38;5;34m32\u001b[0m)     │           \u001b[38;5;34m320\u001b[0m │\n",
       "├─────────────────────────────────┼────────────────────────┼───────────────┤\n",
       "│ max_pooling2d (\u001b[38;5;33mMaxPooling2D\u001b[0m)    │ (\u001b[38;5;45mNone\u001b[0m, \u001b[38;5;34m24\u001b[0m, \u001b[38;5;34m24\u001b[0m, \u001b[38;5;34m32\u001b[0m)     │             \u001b[38;5;34m0\u001b[0m │\n",
       "├─────────────────────────────────┼────────────────────────┼───────────────┤\n",
       "│ conv2d_1 (\u001b[38;5;33mConv2D\u001b[0m)               │ (\u001b[38;5;45mNone\u001b[0m, \u001b[38;5;34m22\u001b[0m, \u001b[38;5;34m22\u001b[0m, \u001b[38;5;34m64\u001b[0m)     │        \u001b[38;5;34m18,496\u001b[0m │\n",
       "├─────────────────────────────────┼────────────────────────┼───────────────┤\n",
       "│ max_pooling2d_1 (\u001b[38;5;33mMaxPooling2D\u001b[0m)  │ (\u001b[38;5;45mNone\u001b[0m, \u001b[38;5;34m11\u001b[0m, \u001b[38;5;34m11\u001b[0m, \u001b[38;5;34m64\u001b[0m)     │             \u001b[38;5;34m0\u001b[0m │\n",
       "├─────────────────────────────────┼────────────────────────┼───────────────┤\n",
       "│ conv2d_2 (\u001b[38;5;33mConv2D\u001b[0m)               │ (\u001b[38;5;45mNone\u001b[0m, \u001b[38;5;34m9\u001b[0m, \u001b[38;5;34m9\u001b[0m, \u001b[38;5;34m128\u001b[0m)      │        \u001b[38;5;34m73,856\u001b[0m │\n",
       "├─────────────────────────────────┼────────────────────────┼───────────────┤\n",
       "│ max_pooling2d_2 (\u001b[38;5;33mMaxPooling2D\u001b[0m)  │ (\u001b[38;5;45mNone\u001b[0m, \u001b[38;5;34m4\u001b[0m, \u001b[38;5;34m4\u001b[0m, \u001b[38;5;34m128\u001b[0m)      │             \u001b[38;5;34m0\u001b[0m │\n",
       "├─────────────────────────────────┼────────────────────────┼───────────────┤\n",
       "│ conv2d_3 (\u001b[38;5;33mConv2D\u001b[0m)               │ (\u001b[38;5;45mNone\u001b[0m, \u001b[38;5;34m2\u001b[0m, \u001b[38;5;34m2\u001b[0m, \u001b[38;5;34m256\u001b[0m)      │       \u001b[38;5;34m295,168\u001b[0m │\n",
       "├─────────────────────────────────┼────────────────────────┼───────────────┤\n",
       "│ max_pooling2d_3 (\u001b[38;5;33mMaxPooling2D\u001b[0m)  │ (\u001b[38;5;45mNone\u001b[0m, \u001b[38;5;34m1\u001b[0m, \u001b[38;5;34m1\u001b[0m, \u001b[38;5;34m256\u001b[0m)      │             \u001b[38;5;34m0\u001b[0m │\n",
       "├─────────────────────────────────┼────────────────────────┼───────────────┤\n",
       "│ flatten (\u001b[38;5;33mFlatten\u001b[0m)               │ (\u001b[38;5;45mNone\u001b[0m, \u001b[38;5;34m256\u001b[0m)            │             \u001b[38;5;34m0\u001b[0m │\n",
       "├─────────────────────────────────┼────────────────────────┼───────────────┤\n",
       "│ dense (\u001b[38;5;33mDense\u001b[0m)                   │ (\u001b[38;5;45mNone\u001b[0m, \u001b[38;5;34m512\u001b[0m)            │       \u001b[38;5;34m131,584\u001b[0m │\n",
       "├─────────────────────────────────┼────────────────────────┼───────────────┤\n",
       "│ dense_1 (\u001b[38;5;33mDense\u001b[0m)                 │ (\u001b[38;5;45mNone\u001b[0m, \u001b[38;5;34m3\u001b[0m)              │         \u001b[38;5;34m1,539\u001b[0m │\n",
       "└─────────────────────────────────┴────────────────────────┴───────────────┘\n"
      ]
     },
     "metadata": {},
     "output_type": "display_data"
    },
    {
     "data": {
      "text/html": [
       "<pre style=\"white-space:pre;overflow-x:auto;line-height:normal;font-family:Menlo,'DejaVu Sans Mono',consolas,'Courier New',monospace\"><span style=\"font-weight: bold\"> Total params: </span><span style=\"color: #00af00; text-decoration-color: #00af00\">1,562,891</span> (5.96 MB)\n",
       "</pre>\n"
      ],
      "text/plain": [
       "\u001b[1m Total params: \u001b[0m\u001b[38;5;34m1,562,891\u001b[0m (5.96 MB)\n"
      ]
     },
     "metadata": {},
     "output_type": "display_data"
    },
    {
     "data": {
      "text/html": [
       "<pre style=\"white-space:pre;overflow-x:auto;line-height:normal;font-family:Menlo,'DejaVu Sans Mono',consolas,'Courier New',monospace\"><span style=\"font-weight: bold\"> Trainable params: </span><span style=\"color: #00af00; text-decoration-color: #00af00\">520,963</span> (1.99 MB)\n",
       "</pre>\n"
      ],
      "text/plain": [
       "\u001b[1m Trainable params: \u001b[0m\u001b[38;5;34m520,963\u001b[0m (1.99 MB)\n"
      ]
     },
     "metadata": {},
     "output_type": "display_data"
    },
    {
     "data": {
      "text/html": [
       "<pre style=\"white-space:pre;overflow-x:auto;line-height:normal;font-family:Menlo,'DejaVu Sans Mono',consolas,'Courier New',monospace\"><span style=\"font-weight: bold\"> Non-trainable params: </span><span style=\"color: #00af00; text-decoration-color: #00af00\">0</span> (0.00 B)\n",
       "</pre>\n"
      ],
      "text/plain": [
       "\u001b[1m Non-trainable params: \u001b[0m\u001b[38;5;34m0\u001b[0m (0.00 B)\n"
      ]
     },
     "metadata": {},
     "output_type": "display_data"
    },
    {
     "data": {
      "text/html": [
       "<pre style=\"white-space:pre;overflow-x:auto;line-height:normal;font-family:Menlo,'DejaVu Sans Mono',consolas,'Courier New',monospace\"><span style=\"font-weight: bold\"> Optimizer params: </span><span style=\"color: #00af00; text-decoration-color: #00af00\">1,041,928</span> (3.97 MB)\n",
       "</pre>\n"
      ],
      "text/plain": [
       "\u001b[1m Optimizer params: \u001b[0m\u001b[38;5;34m1,041,928\u001b[0m (3.97 MB)\n"
      ]
     },
     "metadata": {},
     "output_type": "display_data"
    }
   ],
   "source": [
    "# Lihat arsitektur model\n",
    "model.summary()"
   ]
  },
  {
   "cell_type": "code",
   "execution_count": 69,
   "metadata": {},
   "outputs": [],
   "source": [
    "import cv2\n",
    "import numpy as np"
   ]
  },
  {
   "cell_type": "code",
   "execution_count": 72,
   "metadata": {},
   "outputs": [
    {
     "data": {
      "text/plain": [
       "(200, 300, 3)"
      ]
     },
     "execution_count": 72,
     "metadata": {},
     "output_type": "execute_result"
    }
   ],
   "source": [
    "image = cv2.imread('scissors.png')\n",
    "\n",
    "image.shape"
   ]
  },
  {
   "cell_type": "markdown",
   "metadata": {},
   "source": [
    "- Sesuaikan kriteria gambar dengan inputan model"
   ]
  },
  {
   "cell_type": "code",
   "execution_count": 74,
   "metadata": {},
   "outputs": [],
   "source": [
    "# Rubah ukuran gambar\n",
    "image = cv2.resize(image, (50, 50))"
   ]
  },
  {
   "cell_type": "code",
   "execution_count": 75,
   "metadata": {},
   "outputs": [
    {
     "data": {
      "text/plain": [
       "(50, 50, 3)"
      ]
     },
     "execution_count": 75,
     "metadata": {},
     "output_type": "execute_result"
    }
   ],
   "source": [
    "image.shape"
   ]
  },
  {
   "cell_type": "code",
   "execution_count": 76,
   "metadata": {},
   "outputs": [
    {
     "data": {
      "text/plain": [
       "(50, 50)"
      ]
     },
     "execution_count": 76,
     "metadata": {},
     "output_type": "execute_result"
    }
   ],
   "source": [
    "# Rubah menjadi grayscale\n",
    "image = cv2.cvtColor(image, cv2.COLOR_BGR2GRAY)\n",
    "\n",
    "image.shape"
   ]
  },
  {
   "cell_type": "code",
   "execution_count": 77,
   "metadata": {},
   "outputs": [
    {
     "data": {
      "text/plain": [
       "array([[83, 83, 83, ..., 88, 85, 83],\n",
       "       [86, 85, 84, ..., 86, 85, 83],\n",
       "       [85, 87, 85, ..., 89, 85, 85],\n",
       "       ...,\n",
       "       [88, 89, 90, ..., 92, 90, 89],\n",
       "       [86, 90, 88, ..., 89, 87, 86],\n",
       "       [87, 89, 87, ..., 91, 88, 86]], dtype=uint8)"
      ]
     },
     "execution_count": 77,
     "metadata": {},
     "output_type": "execute_result"
    }
   ],
   "source": [
    "image"
   ]
  },
  {
   "cell_type": "code",
   "execution_count": 78,
   "metadata": {},
   "outputs": [
    {
     "data": {
      "text/plain": [
       "array([[0.3254902 , 0.3254902 , 0.3254902 , ..., 0.34509804, 0.33333333,\n",
       "        0.3254902 ],\n",
       "       [0.3372549 , 0.33333333, 0.32941176, ..., 0.3372549 , 0.33333333,\n",
       "        0.3254902 ],\n",
       "       [0.33333333, 0.34117647, 0.33333333, ..., 0.34901961, 0.33333333,\n",
       "        0.33333333],\n",
       "       ...,\n",
       "       [0.34509804, 0.34901961, 0.35294118, ..., 0.36078431, 0.35294118,\n",
       "        0.34901961],\n",
       "       [0.3372549 , 0.35294118, 0.34509804, ..., 0.34901961, 0.34117647,\n",
       "        0.3372549 ],\n",
       "       [0.34117647, 0.34901961, 0.34117647, ..., 0.35686275, 0.34509804,\n",
       "        0.3372549 ]])"
      ]
     },
     "execution_count": 78,
     "metadata": {},
     "output_type": "execute_result"
    }
   ],
   "source": [
    "# Scaling nilai-nilai pixel pada gambar menjadi angka dengan rentang 0-1\n",
    "image = image / 255\n",
    "\n",
    "image"
   ]
  },
  {
   "cell_type": "code",
   "execution_count": 79,
   "metadata": {},
   "outputs": [
    {
     "data": {
      "text/plain": [
       "array([[[0.3254902 , 0.3254902 , 0.3254902 , ..., 0.34509804,\n",
       "         0.33333333, 0.3254902 ],\n",
       "        [0.3372549 , 0.33333333, 0.32941176, ..., 0.3372549 ,\n",
       "         0.33333333, 0.3254902 ],\n",
       "        [0.33333333, 0.34117647, 0.33333333, ..., 0.34901961,\n",
       "         0.33333333, 0.33333333],\n",
       "        ...,\n",
       "        [0.34509804, 0.34901961, 0.35294118, ..., 0.36078431,\n",
       "         0.35294118, 0.34901961],\n",
       "        [0.3372549 , 0.35294118, 0.34509804, ..., 0.34901961,\n",
       "         0.34117647, 0.3372549 ],\n",
       "        [0.34117647, 0.34901961, 0.34117647, ..., 0.35686275,\n",
       "         0.34509804, 0.3372549 ]]])"
      ]
     },
     "execution_count": 79,
     "metadata": {},
     "output_type": "execute_result"
    }
   ],
   "source": [
    "import numpy as np\n",
    "\n",
    "\n",
    "image = np.expand_dims(image, axis = 0)\n",
    "image"
   ]
  },
  {
   "cell_type": "code",
   "execution_count": 80,
   "metadata": {},
   "outputs": [
    {
     "data": {
      "text/plain": [
       "(1, 50, 50)"
      ]
     },
     "execution_count": 80,
     "metadata": {},
     "output_type": "execute_result"
    }
   ],
   "source": [
    "image.shape"
   ]
  },
  {
   "cell_type": "code",
   "execution_count": 81,
   "metadata": {},
   "outputs": [
    {
     "name": "stdout",
     "output_type": "stream",
     "text": [
      "\u001b[1m1/1\u001b[0m \u001b[32m━━━━━━━━━━━━━━━━━━━━\u001b[0m\u001b[37m\u001b[0m \u001b[1m1s\u001b[0m 1s/step   \n"
     ]
    }
   ],
   "source": [
    "prediction = model.predict(image)"
   ]
  },
  {
   "cell_type": "code",
   "execution_count": 82,
   "metadata": {},
   "outputs": [
    {
     "data": {
      "text/plain": [
       "array([[2.7737638e-01, 1.8235331e-05, 7.2260529e-01]], dtype=float32)"
      ]
     },
     "execution_count": 82,
     "metadata": {},
     "output_type": "execute_result"
    }
   ],
   "source": [
    "prediction"
   ]
  },
  {
   "cell_type": "code",
   "execution_count": 85,
   "metadata": {},
   "outputs": [],
   "source": [
    "prob_paper = prediction[0][0]\n",
    "prob_rock = prediction[0][1]\n",
    "prob_scissors = prediction[0][2]"
   ]
  },
  {
   "cell_type": "code",
   "execution_count": 86,
   "metadata": {},
   "outputs": [
    {
     "name": "stdout",
     "output_type": "stream",
     "text": [
      "0.27737638\n",
      "1.823533e-05\n",
      "0.7226053\n"
     ]
    }
   ],
   "source": [
    "print(prob_paper)\n",
    "print(prob_rock)\n",
    "print(prob_scissors)"
   ]
  },
  {
   "cell_type": "code",
   "execution_count": 87,
   "metadata": {},
   "outputs": [
    {
     "name": "stdout",
     "output_type": "stream",
     "text": [
      "Hasil prediksi : Scissors\n"
     ]
    }
   ],
   "source": [
    "if prob_paper > prob_scissors and prob_paper > prob_rock:\n",
    "    print(\"Hasil prediksi : Paper\")\n",
    "\n",
    "elif prob_scissors > prob_paper and prob_scissors > prob_rock:\n",
    "    print(\"Hasil prediksi : Scissors\")\n",
    "    \n",
    "else:\n",
    "    print(\"Hasil prediksi : Rock\")"
   ]
  }
 ],
 "metadata": {
  "kernelspec": {
   "display_name": ".venv",
   "language": "python",
   "name": "python3"
  },
  "language_info": {
   "codemirror_mode": {
    "name": "ipython",
    "version": 3
   },
   "file_extension": ".py",
   "mimetype": "text/x-python",
   "name": "python",
   "nbconvert_exporter": "python",
   "pygments_lexer": "ipython3",
   "version": "3.11.9"
  }
 },
 "nbformat": 4,
 "nbformat_minor": 2
}
