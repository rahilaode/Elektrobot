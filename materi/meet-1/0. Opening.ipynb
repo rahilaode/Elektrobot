{
 "cells": [
  {
   "cell_type": "markdown",
   "metadata": {},
   "source": [
    "### Learning Background"
   ]
  },
  {
   "cell_type": "markdown",
   "metadata": {},
   "source": [
    "- Salah satu teknologi utama yang memungkinkan robot untuk \"melihat\" dan \"memahami\" objek visual adalah **Computer Vision**.\n",
    "- Contoh penerapan dari computer vision : \n",
    "    - Face Recognition\n",
    "\n",
    "        <img src=\"https://5.imimg.com/data5/SELLER/Default/2024/6/423957638/CL/BK/II/75452602/time-access-b-20-face-recognition-biometric-system.jpg\" alt=\"Contoh Pengenalan Wajah\" width=\"400\"/>\n",
    "\n",
    "    - Object Detection\n",
    "\n",
    "        <img src=\"https://visionplatform.ai/wp-content/uploads/2024/01/object-detection.png\" alt=\"Object Detection\" width=\"400\"/>\n",
    "\n",
    "\n",
    "    - Analisis gambar medis\n",
    "\n",
    "        <img src=\"https://figures.semanticscholar.org/fdd644ec07a4e54d1860825f07f74da2f6f8e442/12-Figure1.1-1.png\" alt=\"Object Detection\" width=\"400\"/>\n",
    "\n",
    "    - Navigasi kendaraan otonom\n",
    "\n",
    "        <img src=\"https://bernardmarr.com/wp-content/uploads/2021/07/How-Tesla-Is-Using-Artificial-Intelligence-to-Create-The-Autonomous-Cars-Of-The-Future.jpg\" alt=\"Object Detection\" width=\"400\"/>\n",
    "    - Robotics: Object Detection\n",
    "\n",
    "        <img src=\"https://hkasaei.github.io/videos/dual_arm_grasping.gif\" alt=\"Object Detection\" width=\"400\"/>"
   ]
  }
 ],
 "metadata": {
  "language_info": {
   "name": "python"
  }
 },
 "nbformat": 4,
 "nbformat_minor": 2
}
