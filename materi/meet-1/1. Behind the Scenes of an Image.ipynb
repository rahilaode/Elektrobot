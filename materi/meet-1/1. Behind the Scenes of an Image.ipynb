{
 "cells": [
  {
   "cell_type": "markdown",
   "metadata": {},
   "source": [
    "### Behind the Scenes of an Image"
   ]
  },
  {
   "cell_type": "markdown",
   "metadata": {},
   "source": [
    "#### Pendahuluan"
   ]
  },
  {
   "cell_type": "markdown",
   "metadata": {},
   "source": [
    "- Gambar digital adalah representasi visual yang tersusun dari matriks angka. \n",
    "- Setiap angka dalam matriks mewakili nilai intensitas piksel pada gambar. \n",
    "\n",
    "    <img src=\"https://www.researchgate.net/publication/330902210/figure/fig1/AS:878026619375622@1586349267376/mage-of-Abraham-Lincoln-as-a-matrix-of-pixel-values.ppm\" alt=\"Contoh Pengenalan Wajah\" width=\"800\"/>\n",
    "\n",
    "- Dalam materi ini, kita akan mengeksplorasi bagaimana komputer merepresentasikan gambar, memanipulasinya, dan akhirnya menampilkan gambar tersebut di layar."
   ]
  },
  {
   "cell_type": "markdown",
   "metadata": {},
   "source": [
    "#### 1. Representasi Gambar sebagai Matriks"
   ]
  },
  {
   "cell_type": "markdown",
   "metadata": {},
   "source": [
    "- Gambar **grayscale** direpresentasikan sebagai **matriks 2D**, di mana setiap elemen matriks adalah nilai intensitas piksel (0-255). \n",
    "- Sedangkan gambar **berwarna (RGB)** direpresentasikan sebagai **matriks 3D** dengan dimensi **(height, width, 3)**.\n",
    "\n",
    "- **Contoh Matrix:**\n",
    "    - 2D :\n",
    "        ```python\n",
    "        [[ 0,  50, 100],\n",
    "        [150, 200, 255]]\n",
    "        ```\n",
    "        \n",
    "    - 3D :\n",
    "        ```python\n",
    "        [[[255, 0, 0], \n",
    "         [0, 255, 0], \n",
    "         [0, 0, 255]],\n",
    "         \n",
    "         [[255, 255, 0], \n",
    "         [255, 0, 255], \n",
    "         [0, 255, 255]]]\n",
    "        ```\n"
   ]
  },
  {
   "cell_type": "markdown",
   "metadata": {},
   "source": [
    "- Pada python, matrix dikenal dengan dengan istilah \"Array\"\n",
    "- Array dapat dibuat dengan menggunakan library \"numpy\".\n",
    "- Perintah untuk install numpy : `pip install numpy`"
   ]
  },
  {
   "cell_type": "markdown",
   "metadata": {},
   "source": [
    "**Contoh 1:**\n",
    "\n",
    "- Buat matriks 2D untuk gambar grayscale dengan dimensi 3x3 menggunakan NumPy, kemudian tampilkan matriks tersebut."
   ]
  },
  {
   "cell_type": "code",
   "execution_count": 24,
   "metadata": {},
   "outputs": [
    {
     "name": "stdout",
     "output_type": "stream",
     "text": [
      "[[0 0 0]\n",
      " [0 0 0]\n",
      " [0 0 0]]\n"
     ]
    },
    {
     "data": {
      "image/png": "[encoded data removed]",
      "text/plain": [
       "<Figure size 640x480 with 1 Axes>"
      ]
     },
     "metadata": {},
     "output_type": "display_data"
    }
   ],
   "source": [
    "# Import numpy\n",
    "import numpy as np\n",
    "import matplotlib.pyplot as plt\n",
    "\n",
    "# Buat array 3x3\n",
    "array_3x3 = np.array([\n",
    "    [0, 0, 0],\n",
    "    [0, 0, 0],\n",
    "    [0, 0, 0]\n",
    "], dtype=np.uint8) # Pada kasus ini, setiap pixel kita representasikan dengan `8-bit unsigned integer`. Artinya nilai dari pixel tsb `0 - 255`\n",
    "\n",
    "# Tampilkan array\n",
    "print(array_3x3)\n",
    "\n",
    "plt.imshow(array_3x3, cmap = 'gray')\n",
    "plt.title('Hasil gambar dari array_3x3')\n",
    "plt.show()"
   ]
  },
  {
   "cell_type": "code",
   "execution_count": 4,
   "metadata": {},
   "outputs": [
    {
     "name": "stdout",
     "output_type": "stream",
     "text": [
      "[[0 0 0]\n",
      " [0 0 0]\n",
      " [0 0 0]]\n"
     ]
    }
   ],
   "source": [
    "import numpy as np\n",
    "\n",
    "\n",
    "# Buat array 3x3\n",
    "array_3x3 = np.array([\n",
    "    [0, 0, 0],\n",
    "    [0, 0, 0],\n",
    "    [0, 0, 0]\n",
    "], dtype=np.uint8)\n",
    "\n",
    "\n",
    "print(array_3x3)"
   ]
  },
  {
   "cell_type": "code",
   "execution_count": 5,
   "metadata": {},
   "outputs": [
    {
     "name": "stdout",
     "output_type": "stream",
     "text": [
      "(3, 3)\n"
     ]
    }
   ],
   "source": [
    "print(array_3x3.shape)"
   ]
  },
  {
   "cell_type": "code",
   "execution_count": 6,
   "metadata": {},
   "outputs": [
    {
     "name": "stdout",
     "output_type": "stream",
     "text": [
      "2\n"
     ]
    }
   ],
   "source": [
    "print(array_3x3.ndim)"
   ]
  },
  {
   "cell_type": "code",
   "execution_count": 4,
   "metadata": {},
   "outputs": [
    {
     "name": "stdout",
     "output_type": "stream",
     "text": [
      "Shape: (3, 3)\n",
      "Dimension: 2\n"
     ]
    }
   ],
   "source": [
    "# Tampilkan shape (ukuran) dari array\n",
    "print(f\"Shape: {array_3x3.shape}\")\n",
    "\n",
    "# Tampilkan dimensi dari array\n",
    "print(f\"Dimension: {array_3x3.ndim}\")"
   ]
  },
  {
   "cell_type": "markdown",
   "metadata": {},
   "source": [
    "- Gunakan library `matplotlib` untuk menampilkan gambar.\n",
    "- Perintah install matplotlib : `pip install matplotlib`"
   ]
  },
  {
   "cell_type": "code",
   "execution_count": 7,
   "metadata": {},
   "outputs": [
    {
     "data": {
      "image/png": "[encoded data removed]",
      "text/plain": [
       "<Figure size 640x480 with 1 Axes>"
      ]
     },
     "metadata": {},
     "output_type": "display_data"
    }
   ],
   "source": [
    "# Menampilkan array sebagai gambar\n",
    "import matplotlib.pyplot as plt\n",
    "\n",
    "plt.imshow(array_3x3, cmap = 'gray')\n",
    "plt.title('Hasil gambar dari array_3x3')\n",
    "plt.show()"
   ]
  },
  {
   "cell_type": "markdown",
   "metadata": {},
   "source": [
    "- Kenapa hitam?\n",
    "- Perhatikan data matrix yang kita gunakan untuk membuat gambar.\n",
    "    ```python\n",
    "    [[0, 0, 0],\n",
    "    [0, 0, 0],\n",
    "    [0, 0, 0]]\n",
    "    ```\n",
    "\n",
    "- Gambar tersebut menghasilkan kotak hitam karena semua nilai dari matrix diset dengan 0.\n",
    "- Artinya, gambar yang dihasilkan tidak menimbulkan intensitas cahaya yang tinggi.\n",
    "- Sekarang kita coba rubah nilai matrixnya."
   ]
  },
  {
   "cell_type": "code",
   "execution_count": 8,
   "metadata": {},
   "outputs": [
    {
     "data": {
      "image/png": "[encoded data removed]",
      "text/plain": [
       "<Figure size 640x480 with 1 Axes>"
      ]
     },
     "metadata": {},
     "output_type": "display_data"
    }
   ],
   "source": [
    "array_3x3 = np.array([\n",
    "    [0, 255, 0],\n",
    "    [255, 100, 255],\n",
    "    [0, 255, 0]\n",
    "], dtype=np.uint8)\n",
    "\n",
    "\n",
    "plt.imshow(array_3x3, cmap = 'gray')\n",
    "plt.title('Hasil gambar dari array_3x3')\n",
    "plt.show()"
   ]
  },
  {
   "cell_type": "markdown",
   "metadata": {},
   "source": [
    "**Contoh 2:**\n",
    "\n",
    "- Buat matriks 3D untuk gambar RGB dengan dimensi 5x5 menggunakan NumPy, kemudian tampilkan matriks tersebut."
   ]
  },
  {
   "cell_type": "code",
   "execution_count": 15,
   "metadata": {},
   "outputs": [
    {
     "name": "stdout",
     "output_type": "stream",
     "text": [
      "[[[255 255 255]\n",
      "  [  0   0   0]\n",
      "  [  0   0   0]]\n",
      "\n",
      " [[  0   0   0]\n",
      "  [255 255 255]\n",
      "  [  0   0   0]]\n",
      "\n",
      " [[  0   0   0]\n",
      "  [  0   0   0]\n",
      "  [255 255 255]]]\n"
     ]
    }
   ],
   "source": [
    "# Buat array 5x5\n",
    "array_3x3 = np.array([\n",
    "    [[255, 255, 255], [0, 0, 0], [0, 0, 0]],\n",
    "\n",
    "    [[0, 0, 0], [255, 255, 255], [0, 0, 0]],\n",
    "\n",
    "    [[0, 0, 0], [0, 0, 0], [255, 255, 255]]], dtype=np.uint8)\n",
    "\n",
    "# Tampilkan array\n",
    "print(array_3x3)"
   ]
  },
  {
   "cell_type": "code",
   "execution_count": 16,
   "metadata": {},
   "outputs": [
    {
     "name": "stdout",
     "output_type": "stream",
     "text": [
      "Shape: (3, 3, 3)\n",
      "Dimension: 3\n"
     ]
    }
   ],
   "source": [
    "# Tampilkan shape (ukuran) dari array\n",
    "print(f\"Shape: {array_3x3.shape}\")\n",
    "\n",
    "# Tampilkan dimensi dari array\n",
    "print(f\"Dimension: {array_3x3.ndim}\")"
   ]
  },
  {
   "cell_type": "code",
   "execution_count": 28,
   "metadata": {},
   "outputs": [
    {
     "data": {
      "image/png": "[encoded data removed]",
      "text/plain": [
       "<Figure size 640x480 with 1 Axes>"
      ]
     },
     "metadata": {},
     "output_type": "display_data"
    }
   ],
   "source": [
    "# Menampilkan array sebagai gambar\n",
    "import matplotlib.pyplot as plt\n",
    "\n",
    "array_3x3 = np.array([\n",
    "    [[127.5, 0, 255], [0, 0, 0], [0, 0, 0]],\n",
    "\n",
    "    [[0, 0, 0], [255, 255, 255], [0, 0, 0]],\n",
    "\n",
    "    [[0, 0, 0], [0, 0, 0], [255, 255, 255]]], dtype=np.uint8)\n",
    "\n",
    "\n",
    "plt.imshow(array_3x3, cmap='gray')\n",
    "plt.title('Hasil gambar')\n",
    "plt.show()"
   ]
  },
  {
   "cell_type": "markdown",
   "metadata": {},
   "source": [
    "**Latihan 1**\n",
    "\n",
    "- Buat matrix 2D ukuran 10 x 10\n",
    "- Matrix tersebut menghasilkan gambar berbentuk angka `3`"
   ]
  },
  {
   "cell_type": "code",
   "execution_count": 27,
   "metadata": {},
   "outputs": [
    {
     "name": "stdout",
     "output_type": "stream",
     "text": [
      "[[  0 255 255 255 255   0   0   0   0   0]\n",
      " [  0   0   0   0 255   0   0   0   0   0]\n",
      " [  0   0   0   0 255   0   0   0   0   0]\n",
      " [  0 255 255 255 255   0   0   0   0   0]\n",
      " [  0   0   0   0 255   0   0   0   0   0]\n",
      " [  0   0   0   0 255   0   0   0   0   0]\n",
      " [  0 255 255 255 255   0   0   0   0   0]\n",
      " [  0   0   0   0   0   0   0   0   0   0]\n",
      " [  0   0   0   0   0   0   0   0   0   0]\n",
      " [  0   0   0   0   0   0   0   0   0   0]]\n"
     ]
    },
    {
     "data": {
      "image/png": "[encoded data removed]",
      "text/plain": [
       "<Figure size 640x480 with 1 Axes>"
      ]
     },
     "metadata": {},
     "output_type": "display_data"
    }
   ],
   "source": [
    "# Buat matrix 10x10 yang membentuk angka 3\n",
    "# Import numpy\n",
    "import numpy as np\n",
    "import matplotlib.pyplot as plt\n",
    "# Buat array 3x3\n",
    "array_3x3 = np.array([\n",
    "    [0, 255, 255, 255, 255, 0, 0, 0, 0, 0],\n",
    "    [0, 0,     0,  0,  255, 0, 0, 0, 0, 0],\n",
    "    [0, 0,     0,  0,  255, 0, 0, 0, 0, 0],\n",
    "    [0, 255, 255,255,  255, 0, 0, 0, 0, 0],\n",
    "    [0, 0,     0,  0,  255, 0, 0, 0, 0, 0],\n",
    "    [0, 0,     0,  0,  255, 0, 0, 0, 0, 0],\n",
    "    [0, 255, 255,255,  255, 0, 0, 0, 0, 0],\n",
    "    [0, 0, 0, 0, 0, 0, 0, 0, 0, 0],\n",
    "    [0, 0, 0, 0, 0, 0, 0, 0, 0, 0],\n",
    "    [0, 0, 0, 0, 0, 0, 0, 0, 0, 0],\n",
    "], dtype=np.uint8) # Pada kasus ini, setiap pixel kita representasikan dengan `8-bit unsigned integer`. Artinya nilai dari pixel tsb `0 - 255`\n",
    "# Tampilkan array\n",
    "print(array_3x3)\n",
    "plt.imshow(array_3x3, cmap = 'gray')\n",
    "plt.title('Hasil gambar dari array_3x3')\n",
    "plt.show()"
   ]
  },
  {
   "cell_type": "markdown",
   "metadata": {},
   "source": [
    "**Latihan 2**\n",
    "\n",
    "- Buat matrix ukuran 5 X 5 3D\n",
    "- Matrix tersebut menghasilkan gambar berbentuk `1` berwarna biru"
   ]
  },
  {
   "cell_type": "code",
   "execution_count": 30,
   "metadata": {},
   "outputs": [
    {
     "data": {
      "image/png": "[encoded data removed]",
      "text/plain": [
       "<Figure size 640x480 with 1 Axes>"
      ]
     },
     "metadata": {},
     "output_type": "display_data"
    }
   ],
   "source": [
    "# Buat matrix 10x10 yang membentuk angka 1\n",
    "import matplotlib.pyplot as plt\n",
    "\n",
    "array_3x3 = np.array([\n",
    "    [[0, 0, 0], [0, 0, 0], [0, 0, 255], [0, 0, 0], [0, 0, 0]],\n",
    "    [[0, 0, 0], [0, 0, 0], [0, 0, 255], [0, 0, 0], [0, 0, 0]],\n",
    "    [[0, 0, 0], [0, 0, 0], [0, 0, 255], [0, 0, 0], [0, 0, 0]],\n",
    "    [[0, 0, 0], [0, 0, 0], [0, 0, 255], [0, 0, 0], [0, 0, 0]],\n",
    "    [[0, 0, 0], [0, 0, 0], [0, 0, 255], [0, 0, 0], [0, 0, 0]]], dtype=np.uint8)\n",
    "\n",
    "plt.imshow(array_3x3, cmap='gray')\n",
    "plt.title('Hasil gambar')\n",
    "plt.show()"
   ]
  }
 ],
 "metadata": {
  "kernelspec": {
   "display_name": ".venv",
   "language": "python",
   "name": "python3"
  },
  "language_info": {
   "codemirror_mode": {
    "name": "ipython",
    "version": 3
   },
   "file_extension": ".py",
   "mimetype": "text/x-python",
   "name": "python",
   "nbconvert_exporter": "python",
   "pygments_lexer": "ipython3",
   "version": "3.13.1"
  }
 },
 "nbformat": 4,
 "nbformat_minor": 2
}
